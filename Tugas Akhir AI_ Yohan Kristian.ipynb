{
 "cells": [
  {
   "cell_type": "code",
   "execution_count": 15,
   "id": "5d142bf4",
   "metadata": {},
   "outputs": [],
   "source": [
    "#Importing keras libraries and packages\n",
    "\n",
    "from keras.models import Sequential\n",
    "from keras.layers import Convolution2D\n",
    "from keras.layers import Flatten\n",
    "from keras.layers import Dense\n",
    "from keras.layers import MaxPooling2D"
   ]
  },
  {
   "cell_type": "code",
   "execution_count": 16,
   "id": "de60c590",
   "metadata": {},
   "outputs": [],
   "source": [
    "#step1 Initializing CNN\n",
    "classifier = Sequential()\n",
    "\n",
    "# step2 adding 1st Convolution layer and Pooling layer\n",
    "classifier.add(Convolution2D(32,(3,3),input_shape = (64,64,3), activation = 'relu'))\n",
    "\n",
    "classifier.add(MaxPooling2D(pool_size = (2, 2)))\n",
    "\n",
    "# step3 adding 2nd convolution layer and polling layer\n",
    "classifier.add(Convolution2D(32,(3,3), activation = 'relu'))\n",
    "\n",
    "classifier.add(MaxPooling2D(pool_size = (2, 2)))\n",
    "\n",
    "\n",
    "#step4 Flattening the layers\n",
    "classifier.add(Flatten())\n",
    "\n",
    "#step5 Full_Connection\n",
    "\n",
    "classifier.add(Dense(units=32,activation = 'relu'))\n",
    "\n",
    "classifier.add(Dense(units=64,activation = 'relu'))\n",
    "\n",
    "classifier.add(Dense(units=128,activation = 'relu'))\n",
    "\n",
    "classifier.add(Dense(units=256,activation = 'relu'))\n",
    "\n",
    "classifier.add(Dense(units=256,activation = 'relu'))\n",
    "\n",
    "classifier.add(Dense(units=6,activation = 'softmax'))"
   ]
  },
  {
   "cell_type": "code",
   "execution_count": 17,
   "id": "77bf6fe6",
   "metadata": {},
   "outputs": [],
   "source": [
    "#step6 Compiling CNN\n",
    "classifier.compile(optimizer = 'adam', loss = 'categorical_crossentropy', metrics = ['accuracy'])\n"
   ]
  },
  {
   "cell_type": "code",
   "execution_count": 25,
   "id": "a060354a",
   "metadata": {},
   "outputs": [
    {
     "name": "stdout",
     "output_type": "stream",
     "text": [
      "\n",
      "Training the data...\n",
      "\n",
      "Found 1212 images belonging to 6 classes.\n",
      "Found 300 images belonging to 6 classes.\n",
      "Epoch 1/20\n",
      "101/101 [==============================] - 10s 102ms/step - loss: 0.7094 - accuracy: 0.7129 - val_loss: 0.5318 - val_accuracy: 0.7900\n",
      "Epoch 2/20\n",
      "101/101 [==============================] - 10s 95ms/step - loss: 0.6100 - accuracy: 0.7649 - val_loss: 0.4687 - val_accuracy: 0.8033\n",
      "Epoch 3/20\n",
      "101/101 [==============================] - 10s 96ms/step - loss: 0.5100 - accuracy: 0.8028 - val_loss: 0.4066 - val_accuracy: 0.8200\n",
      "Epoch 4/20\n",
      "101/101 [==============================] - 10s 98ms/step - loss: 0.4799 - accuracy: 0.8193 - val_loss: 0.5381 - val_accuracy: 0.7733\n",
      "Epoch 5/20\n",
      "101/101 [==============================] - 10s 96ms/step - loss: 0.4481 - accuracy: 0.8333 - val_loss: 0.5255 - val_accuracy: 0.7767\n",
      "Epoch 6/20\n",
      "101/101 [==============================] - 10s 97ms/step - loss: 0.4505 - accuracy: 0.8309 - val_loss: 0.3946 - val_accuracy: 0.8400\n",
      "Epoch 7/20\n",
      "101/101 [==============================] - 10s 99ms/step - loss: 0.3636 - accuracy: 0.8630 - val_loss: 0.3442 - val_accuracy: 0.8967\n",
      "Epoch 8/20\n",
      "101/101 [==============================] - 10s 99ms/step - loss: 0.3168 - accuracy: 0.8845 - val_loss: 0.3886 - val_accuracy: 0.8467\n",
      "Epoch 9/20\n",
      "101/101 [==============================] - 10s 99ms/step - loss: 0.3431 - accuracy: 0.8878 - val_loss: 0.6195 - val_accuracy: 0.7867\n",
      "Epoch 10/20\n",
      "101/101 [==============================] - 10s 101ms/step - loss: 0.3571 - accuracy: 0.8713 - val_loss: 0.3315 - val_accuracy: 0.8867\n",
      "Epoch 11/20\n",
      "101/101 [==============================] - 10s 98ms/step - loss: 0.3201 - accuracy: 0.8820 - val_loss: 0.2884 - val_accuracy: 0.8933\n",
      "Epoch 12/20\n",
      "101/101 [==============================] - 10s 97ms/step - loss: 0.2727 - accuracy: 0.8977 - val_loss: 0.3326 - val_accuracy: 0.8733\n",
      "Epoch 13/20\n",
      "101/101 [==============================] - 10s 99ms/step - loss: 0.3057 - accuracy: 0.8812 - val_loss: 0.2651 - val_accuracy: 0.8933\n",
      "Epoch 14/20\n",
      "101/101 [==============================] - 10s 100ms/step - loss: 0.2638 - accuracy: 0.9026 - val_loss: 0.2740 - val_accuracy: 0.9067\n",
      "Epoch 15/20\n",
      "101/101 [==============================] - 10s 96ms/step - loss: 0.2468 - accuracy: 0.9142 - val_loss: 0.3176 - val_accuracy: 0.8700\n",
      "Epoch 16/20\n",
      "101/101 [==============================] - 10s 97ms/step - loss: 0.2820 - accuracy: 0.9092 - val_loss: 0.2784 - val_accuracy: 0.8933\n",
      "Epoch 17/20\n",
      "101/101 [==============================] - 10s 97ms/step - loss: 0.3133 - accuracy: 0.8837 - val_loss: 0.3046 - val_accuracy: 0.8933\n",
      "Epoch 18/20\n",
      "101/101 [==============================] - 10s 95ms/step - loss: 0.2424 - accuracy: 0.9101 - val_loss: 0.3534 - val_accuracy: 0.8667\n",
      "Epoch 19/20\n",
      "101/101 [==============================] - 10s 99ms/step - loss: 0.2365 - accuracy: 0.9233 - val_loss: 0.3693 - val_accuracy: 0.8367\n",
      "Epoch 20/20\n",
      "101/101 [==============================] - 10s 101ms/step - loss: 0.2254 - accuracy: 0.9101 - val_loss: 0.2900 - val_accuracy: 0.8933\n"
     ]
    }
   ],
   "source": [
    "#step7 Fitting CNN to images\n",
    "\n",
    "from keras.preprocessing.image import ImageDataGenerator\n",
    "\n",
    "train_datagen = ImageDataGenerator(rescale = 1./255, # To rescaling the image in range of [0,1]\n",
    "                                   shear_range = 0.2, # To randomly shear the images \n",
    "                                   zoom_range = 0.2, # To randomly zoom the images\n",
    "                                   horizontal_flip = True) #  for randomly flipping half of the images horizontally \n",
    "\n",
    "test_datagen = ImageDataGenerator(rescale = 1./255)\n",
    "print(\"\\nTraining the data...\\n\")\n",
    "training_set = train_datagen.flow_from_directory('C:/Users/ASUS/Documents/TUGAS AKHIR AI/Dataset/train',\n",
    "                                                target_size=(64,64),\n",
    "                                                batch_size=12, #Total no. of batches\n",
    "                                                class_mode='categorical')\n",
    "\n",
    "test_set = test_datagen.flow_from_directory('C:/Users/ASUS/Documents/TUGAS AKHIR AI/Dataset/test',\n",
    "                                            target_size=(64,64),\n",
    "                                            batch_size=12,\n",
    "                                            class_mode='categorical')\n",
    "\n",
    "history=classifier.fit_generator(training_set,\n",
    "                         steps_per_epoch= 101, # Total training images\n",
    "                         epochs = 20, # Total no. of epochs\n",
    "                         validation_data = test_set,\n",
    "                         validation_steps = 25) # Total testing images"
   ]
  },
  {
   "cell_type": "code",
   "execution_count": 23,
   "id": "1dd514b9",
   "metadata": {},
   "outputs": [],
   "source": [
    "#step8 saving model \n",
    "\n",
    "classifier.save(\"model.h5\")"
   ]
  },
  {
   "cell_type": "code",
   "execution_count": null,
   "id": "fbabadaf",
   "metadata": {},
   "outputs": [],
   "source": []
  },
  {
   "cell_type": "code",
   "execution_count": 24,
   "id": "40c076f3",
   "metadata": {},
   "outputs": [
    {
     "data": {
      "text/plain": [
       "<matplotlib.legend.Legend at 0x22382d76400>"
      ]
     },
     "execution_count": 24,
     "metadata": {},
     "output_type": "execute_result"
    },
    {
     "data": {
      "image/png": "[encoded data removed]",
      "text/plain": [
       "<Figure size 1440x864 with 2 Axes>"
      ]
     },
     "metadata": {
      "needs_background": "light"
     },
     "output_type": "display_data"
    }
   ],
   "source": [
    "import matplotlib.pyplot as plt\n",
    "plt.figure(1, figsize = (20, 12))\n",
    "plt.subplot(1,2,1)\n",
    "plt.xlabel(\"Epochs\")\n",
    "plt.ylabel(\"Loss\")\n",
    "plt.plot( history.history[\"loss\"], label = \"Training Loss\")\n",
    "plt.plot( history.history[\"val_loss\"], label = \"Validation Loss\")\n",
    "plt.grid(True)\n",
    "plt.legend()\n",
    "\n",
    "plt.subplot(1,2,2)\n",
    "plt.xlabel(\"Epochs\")\n",
    "plt.ylabel(\"Accuracy\")\n",
    "plt.plot( history.history[\"accuracy\"], label = \"Training Accuracy\")\n",
    "plt.plot( history.history[\"val_accuracy\"], label = \"Validation Accuracy\")\n",
    "plt.grid(True)\n",
    "plt.legend()"
   ]
  },
  {
   "cell_type": "code",
   "execution_count": null,
   "id": "4373f2c5",
   "metadata": {},
   "outputs": [],
   "source": []
  }
 ],
 "metadata": {
  "kernelspec": {
   "display_name": "Python 3",
   "language": "python",
   "name": "python3"
  },
  "language_info": {
   "codemirror_mode": {
    "name": "ipython",
    "version": 3
   },
   "file_extension": ".py",
   "mimetype": "text/x-python",
   "name": "python",
   "nbconvert_exporter": "python",
   "pygments_lexer": "ipython3",
   "version": "3.8.8"
  }
 },
 "nbformat": 4,
 "nbformat_minor": 5
}
